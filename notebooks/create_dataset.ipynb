{
 "cells": [
  {
   "cell_type": "code",
   "execution_count": 8,
   "id": "dd555848",
   "metadata": {},
   "outputs": [],
   "source": [
    "import sys\n",
    "import os\n",
    "\n",
    "import torch as T\n",
    "import numpy as np\n",
    "\n",
    "sys.path.append(os.path.abspath(os.path.join(os.getcwd(), \"..\")))"
   ]
  },
  {
   "cell_type": "markdown",
   "id": "08945224",
   "metadata": {},
   "source": [
    "## Dataset Creation"
   ]
  },
  {
   "cell_type": "code",
   "execution_count": 9,
   "id": "25ea2ee3",
   "metadata": {},
   "outputs": [],
   "source": [
    "from torch.utils.data import TensorDataset, random_split\n",
    "\n",
    "from datasets.wcst import WCST"
   ]
  },
  {
   "cell_type": "markdown",
   "id": "d7d2bc29",
   "metadata": {},
   "source": [
    "### 1. Dataset Hyperparameters"
   ]
  },
  {
   "cell_type": "code",
   "execution_count": 23,
   "id": "b73743b6",
   "metadata": {},
   "outputs": [],
   "source": [
    "BATCH_SIZE = 32\n",
    "BATCHES_PER_CONTEXT = 100\n",
    "N_CONTEXT_SWITCHES = 1"
   ]
  },
  {
   "cell_type": "markdown",
   "id": "0e47ffd5",
   "metadata": {},
   "source": [
    "### 2. Creating Dataset"
   ]
  },
  {
   "cell_type": "code",
   "execution_count": 24,
   "id": "365835c5",
   "metadata": {},
   "outputs": [],
   "source": [
    "wcst = WCST(BATCH_SIZE)\n",
    "data = []\n",
    "targets = []\n",
    "\n",
    "for i in range(N_CONTEXT_SWITCHES):\n",
    "    for j in range(BATCHES_PER_CONTEXT):\n",
    "        X, t = next(wcst.gen_batch())\n",
    "        for k in range(BATCH_SIZE):\n",
    "            data.append(X[k])\n",
    "            targets.append(t[k])\n",
    "    wcst.context_switch()\n",
    "\n",
    "data = T.tensor(np.array(data), dtype=T.long)\n",
    "targets = T.tensor(np.array(targets), dtype=T.long)\n",
    "dataset = TensorDataset(data, targets)\n",
    "\n",
    "train_dataset, validation_dataset, test_dataset = random_split(\n",
    "    dataset, [0.6, 0.2, 0.2]\n",
    ")"
   ]
  },
  {
   "cell_type": "markdown",
   "id": "5322bbe9",
   "metadata": {},
   "source": [
    "### 3. Save Datasets"
   ]
  },
  {
   "cell_type": "code",
   "execution_count": 25,
   "id": "b118a471",
   "metadata": {},
   "outputs": [],
   "source": [
    "def save_subset(subset, filename):\n",
    "    data = subset.dataset.tensors[0][subset.indices]\n",
    "    targets = subset.dataset.tensors[1][subset.indices]\n",
    "    T.save((data, targets), filename)"
   ]
  },
  {
   "cell_type": "code",
   "execution_count": 26,
   "id": "c84893e3",
   "metadata": {},
   "outputs": [],
   "source": [
    "save_subset(train_dataset, '../datasets/train_dataset.pt')\n",
    "save_subset(validation_dataset, '../datasets/validation_dataset.pt')\n",
    "save_subset(test_dataset, '../datasets/test_dataset.pt')"
   ]
  },
  {
   "cell_type": "code",
   "execution_count": null,
   "id": "4a3e8bf5",
   "metadata": {},
   "outputs": [],
   "source": []
  }
 ],
 "metadata": {
  "kernelspec": {
   "display_name": "Python 3",
   "language": "python",
   "name": "python3"
  },
  "language_info": {
   "codemirror_mode": {
    "name": "ipython",
    "version": 3
   },
   "file_extension": ".py",
   "mimetype": "text/x-python",
   "name": "python",
   "nbconvert_exporter": "python",
   "pygments_lexer": "ipython3",
   "version": "3.12.2"
  }
 },
 "nbformat": 4,
 "nbformat_minor": 5
}
